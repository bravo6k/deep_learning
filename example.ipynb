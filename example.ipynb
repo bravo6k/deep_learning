{
 "cells": [
  {
   "cell_type": "code",
   "execution_count": 1,
   "metadata": {},
   "outputs": [],
   "source": [
    "from download_data import *\n",
    "from dnn_implementation import *\n",
    "import matplotlib.image as mpimg\n",
    "import matplotlib.pyplot as plt"
   ]
  },
  {
   "cell_type": "code",
   "execution_count": 2,
   "metadata": {},
   "outputs": [
    {
     "name": "stdout",
     "output_type": "stream",
     "text": [
      "Downloading train data\n",
      "Downloading test data\n"
     ]
    }
   ],
   "source": [
    "x_train, y_train, x_test, y_test = get_data()"
   ]
  },
  {
   "cell_type": "code",
   "execution_count": 3,
   "metadata": {},
   "outputs": [],
   "source": [
    "n_train = x_train.shape[1]\n",
    "n_test = x_test.shape[1]\n",
    "num_px = int(np.sqrt(x_train.shape[0]))\n",
    "n_class = len(np.unique(y_train))\n",
    "# one hot y\n",
    "y_train_oh = np.zeros((n_class, n_train))\n",
    "y_train_oh[y_train,np.arange(n_train)] = 1\n",
    "y_test_oh = np.zeros((n_class, n_test))\n",
    "y_test_oh[y_test,np.arange(n_test)] = 1"
   ]
  },
  {
   "cell_type": "code",
   "execution_count": 4,
   "metadata": {},
   "outputs": [
    {
     "name": "stdout",
     "output_type": "stream",
     "text": [
      "Image Label:  7\n"
     ]
    },
    {
     "data": {
      "image/png": "[encoded data removed]",
      "text/plain": [
       "<matplotlib.figure.Figure at 0x26a0ee8b5c0>"
      ]
     },
     "metadata": {
      "needs_background": "light"
     },
     "output_type": "display_data"
    }
   ],
   "source": [
    "sample_number = 5000\n",
    "plt.imshow(x_train[:,sample_number].reshape(28,28), cmap=\"gray_r\")\n",
    "plt.axis('off')\n",
    "print(\"Image Label: \", y_train[sample_number])"
   ]
  },
  {
   "cell_type": "code",
   "execution_count": 5,
   "metadata": {},
   "outputs": [
    {
     "name": "stdout",
     "output_type": "stream",
     "text": [
      "Number of training examples: 60000\n",
      "Number of testing examples: 10000\n",
      "Each image is of size: (28, 28)\n",
      "x_train shape: (784, 60000)\n",
      "y_train one hot shape: (10, 60000)\n",
      "x_test shape: (784, 10000)\n",
      "y_test one hot shape: (10, 10000)\n"
     ]
    }
   ],
   "source": [
    "# Explore your dataset \n",
    "print (\"Number of training examples: \" + str(n_train))\n",
    "print (\"Number of testing examples: \" + str(n_test))\n",
    "print (\"Each image is of size: (\" + str(num_px) + \", \" + str(num_px) + \")\")\n",
    "print (\"x_train shape: \" + str(x_train.shape))\n",
    "print (\"y_train one hot shape: \" + str(y_train_oh.shape))\n",
    "print (\"x_test shape: \" + str(x_test.shape))\n",
    "print (\"y_test one hot shape: \" + str(y_test_oh.shape))"
   ]
  },
  {
   "cell_type": "code",
   "execution_count": 6,
   "metadata": {},
   "outputs": [],
   "source": [
    "layers_dims = [784, 20, 15, 10]"
   ]
  },
  {
   "cell_type": "code",
   "execution_count": 7,
   "metadata": {},
   "outputs": [],
   "source": [
    "activation_function = [ReLU,ReLU,ReLU]"
   ]
  },
  {
   "cell_type": "code",
   "execution_count": 8,
   "metadata": {},
   "outputs": [],
   "source": [
    "network = Neural_Network(layer_list=layers_dims,activation_function=activation_function,lambd=0.7,keep_prob=0.7)"
   ]
  },
  {
   "cell_type": "code",
   "execution_count": 9,
   "metadata": {},
   "outputs": [],
   "source": [
    "network.train(X=x_train,Y=y_train_oh)"
   ]
  },
  {
   "cell_type": "code",
   "execution_count": 10,
   "metadata": {},
   "outputs": [
    {
     "data": {
      "text/plain": [
       "[2.300900387268684,\n",
       " 1.9007506402237508,\n",
       " 1.4480804849787317,\n",
       " 1.177560057583853,\n",
       " 1.009771101550233,\n",
       " 0.9364446167231288]"
      ]
     },
     "execution_count": 10,
     "metadata": {},
     "output_type": "execute_result"
    }
   ],
   "source": [
    "network.costs"
   ]
  },
  {
   "cell_type": "code",
   "execution_count": 11,
   "metadata": {},
   "outputs": [
    {
     "data": {
      "image/png": "[encoded data removed]",
      "text/plain": [
       "<matplotlib.figure.Figure at 0x26a0ee8bc50>"
      ]
     },
     "metadata": {
      "needs_background": "light"
     },
     "output_type": "display_data"
    }
   ],
   "source": [
    "plt.plot(np.squeeze(network.costs))\n",
    "plt.ylabel('cost')\n",
    "plt.xlabel('iterations (per 50s)')\n",
    "plt.title(\"Learning rate =\" + str(network.learning_rate))\n",
    "plt.show()"
   ]
  },
  {
   "cell_type": "code",
   "execution_count": null,
   "metadata": {},
   "outputs": [],
   "source": []
  }
 ],
 "metadata": {
  "kernelspec": {
   "display_name": "Python 3",
   "language": "python",
   "name": "python3"
  },
  "language_info": {
   "codemirror_mode": {
    "name": "ipython",
    "version": 3
   },
   "file_extension": ".py",
   "mimetype": "text/x-python",
   "name": "python",
   "nbconvert_exporter": "python",
   "pygments_lexer": "ipython3",
   "version": "3.6.4"
  }
 },
 "nbformat": 4,
 "nbformat_minor": 2
}

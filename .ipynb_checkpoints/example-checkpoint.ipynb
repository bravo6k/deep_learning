{
 "cells": [
  {
   "cell_type": "code",
   "execution_count": 2,
   "metadata": {},
   "outputs": [],
   "source": [
    "from download_data import *\n",
    "from dnn_implementation import *\n",
    "import matplotlib.image as mpimg\n",
    "import matplotlib.pyplot as plt"
   ]
  },
  {
   "cell_type": "code",
   "execution_count": 3,
   "metadata": {},
   "outputs": [
    {
     "name": "stdout",
     "output_type": "stream",
     "text": [
      "Downloading train data\n",
      "Downloading test data\n"
     ]
    }
   ],
   "source": [
    "x_train, y_train, x_test, y_test = get_data()"
   ]
  },
  {
   "cell_type": "code",
   "execution_count": 4,
   "metadata": {},
   "outputs": [],
   "source": [
    "n_train = x_train.shape[1]\n",
    "n_test = x_test.shape[1]\n",
    "num_px = int(np.sqrt(x_train.shape[0]))\n",
    "n_class = len(np.unique(y_train))\n",
    "# one hot y\n",
    "y_train_oh = np.zeros((n_class, n_train))\n",
    "y_train_oh[y_train,np.arange(n_train)] = 1\n",
    "y_test_oh = np.zeros((n_class, n_test))\n",
    "y_test_oh[y_test,np.arange(n_test)] = 1"
   ]
  },
  {
   "cell_type": "code",
   "execution_count": 5,
   "metadata": {},
   "outputs": [
    {
     "name": "stdout",
     "output_type": "stream",
     "text": [
      "Image Label:  7\n"
     ]
    },
    {
     "data": {
      "image/png": "[encoded data removed]",
      "text/plain": [
       "<matplotlib.figure.Figure at 0x2810ae61400>"
      ]
     },
     "metadata": {
      "needs_background": "light"
     },
     "output_type": "display_data"
    }
   ],
   "source": [
    "sample_number = 5000\n",
    "plt.imshow(x_train[:,sample_number].reshape(28,28), cmap=\"gray_r\")\n",
    "plt.axis('off')\n",
    "print(\"Image Label: \", y_train[sample_number])"
   ]
  },
  {
   "cell_type": "code",
   "execution_count": 6,
   "metadata": {},
   "outputs": [
    {
     "name": "stdout",
     "output_type": "stream",
     "text": [
      "Number of training examples: 60000\n",
      "Number of testing examples: 10000\n",
      "Each image is of size: (28, 28)\n",
      "x_train shape: (784, 60000)\n",
      "y_train one hot shape: (10, 60000)\n",
      "x_test shape: (784, 10000)\n",
      "y_test one hot shape: (10, 10000)\n"
     ]
    }
   ],
   "source": [
    "# Explore your dataset \n",
    "print (\"Number of training examples: \" + str(n_train))\n",
    "print (\"Number of testing examples: \" + str(n_test))\n",
    "print (\"Each image is of size: (\" + str(num_px) + \", \" + str(num_px) + \")\")\n",
    "print (\"x_train shape: \" + str(x_train.shape))\n",
    "print (\"y_train one hot shape: \" + str(y_train_oh.shape))\n",
    "print (\"x_test shape: \" + str(x_test.shape))\n",
    "print (\"y_test one hot shape: \" + str(y_test_oh.shape))"
   ]
  },
  {
   "cell_type": "code",
   "execution_count": 7,
   "metadata": {},
   "outputs": [],
   "source": [
    "layers_dims = [784, 20, 15, 10]"
   ]
  },
  {
   "cell_type": "code",
   "execution_count": 8,
   "metadata": {},
   "outputs": [],
   "source": [
    "activation_function = [ReLU,ReLU,ReLU]"
   ]
  },
  {
   "cell_type": "code",
   "execution_count": 12,
   "metadata": {},
   "outputs": [],
   "source": [
    "network = Neural_Network(layer_list=layers_dims,activation_function=activation_function,lambd=0.7,keep_prob=1)"
   ]
  },
  {
   "cell_type": "code",
   "execution_count": 13,
   "metadata": {},
   "outputs": [],
   "source": [
    "network.train(X=x_train,Y=y_train_oh,epoch=3000)"
   ]
  },
  {
   "cell_type": "code",
   "execution_count": 14,
   "metadata": {},
   "outputs": [
    {
     "data": {
      "image/png": "[encoded data removed]",
      "text/plain": [
       "<matplotlib.figure.Figure at 0x2810b6c9198>"
      ]
     },
     "metadata": {
      "needs_background": "light"
     },
     "output_type": "display_data"
    }
   ],
   "source": [
    "plt.plot(np.squeeze(network.costs))\n",
    "plt.ylabel('cost')\n",
    "plt.xlabel('iterations (per 50s)')\n",
    "plt.title(\"Learning rate =\" + str(network.learning_rate))\n",
    "plt.show()"
   ]
  },
  {
   "cell_type": "code",
   "execution_count": null,
   "metadata": {},
   "outputs": [],
   "source": [
    "np.concatenate(list(network.parameters.values()),axis = None)"
   ]
  },
  {
   "cell_type": "code",
   "execution_count": 17,
   "metadata": {},
   "outputs": [
    {
     "data": {
      "text/plain": [
       "array([ 1.55758417e-03,  1.68440862e-03,  9.63545527e-06, ...,\n",
       "       -2.53211497e-02,  5.52018561e-02,  2.55395128e-02])"
      ]
     },
     "execution_count": 17,
     "metadata": {},
     "output_type": "execute_result"
    }
   ],
   "source": [
    "np.concatenate(list(network.parameters.values()),axis=None)"
   ]
  },
  {
   "cell_type": "code",
   "execution_count": 19,
   "metadata": {},
   "outputs": [
    {
     "data": {
      "text/plain": [
       "{'W1': array([[ 1.55758417e-03,  1.68440862e-03,  9.63545527e-06, ...,\n",
       "         -1.39412849e-03,  1.38828637e-03, -1.39110267e-03],\n",
       "        [-2.29101161e-03, -2.26613202e-04,  6.63571171e-05, ...,\n",
       "         -1.70753858e-03,  2.70452254e-03,  1.40070472e-03],\n",
       "        [-7.93911573e-04,  2.06545632e-03,  6.76215733e-04, ...,\n",
       "          1.67916677e-04,  1.43277652e-03, -2.78664172e-04],\n",
       "        ...,\n",
       "        [ 1.11126522e-03,  1.62138229e-06, -2.38029433e-04, ...,\n",
       "         -7.03879903e-04, -5.88673184e-04, -1.14875814e-04],\n",
       "        [-1.77398023e-03,  4.74100355e-04,  5.27747296e-04, ...,\n",
       "         -1.85892886e-03,  1.48949090e-03, -2.08510094e-03],\n",
       "        [-2.67184606e-04, -2.57273920e-03,  5.25612082e-04, ...,\n",
       "         -2.55290042e-03,  7.01888669e-04, -1.41620299e-03]]),\n",
       " 'W2': array([[ 2.06684801e-01, -1.63617914e-01, -1.17940774e-01,\n",
       "          1.19113906e-01, -1.94964976e-01, -4.95252740e-02,\n",
       "         -2.31246244e-01,  1.71518583e-01, -6.44191470e-02,\n",
       "         -5.62359244e-04, -1.20776467e-01, -9.77713063e-02,\n",
       "         -6.42125794e-02, -7.50573327e-02,  5.46304187e-02,\n",
       "          6.95669421e-02,  1.31614894e-01, -2.11522405e-01,\n",
       "          4.08137498e-02,  1.89743906e-01],\n",
       "        [-9.97408987e-02,  1.38793893e-01,  2.07129564e-01,\n",
       "         -1.80884630e-01,  1.46631098e-01,  1.57216380e-01,\n",
       "          1.35990505e-01, -4.06794369e-02, -4.84107519e-02,\n",
       "          1.04130527e-01,  7.33751999e-02, -1.46126821e-01,\n",
       "         -2.07400334e-02, -8.52755969e-02, -2.17458029e-01,\n",
       "          1.21751987e-01,  1.13901707e-01,  2.30483165e-01,\n",
       "          2.87998469e-01,  1.41100618e-01],\n",
       "        [-2.17834789e-03, -2.71612115e-03,  1.29657811e-03,\n",
       "         -2.03989945e-03,  1.66806141e-03, -1.17089009e-03,\n",
       "          4.45376313e-04, -3.95462909e-03, -3.87545403e-03,\n",
       "         -8.33457302e-05, -1.22643033e-03,  1.71413302e-03,\n",
       "          4.79982379e-03,  1.47080731e-03, -9.60187012e-04,\n",
       "         -2.62222063e-03,  9.36810354e-04, -2.39877413e-03,\n",
       "          2.24263825e-03, -4.75358733e-04],\n",
       "        [-2.03823152e-02,  1.15501010e-04, -1.13621009e-01,\n",
       "          1.71792071e-03, -7.10527010e-02,  8.56889863e-02,\n",
       "          3.82648837e-02,  4.44643521e-02,  2.13315111e-01,\n",
       "         -1.12265650e-01,  5.24337479e-02,  1.62818480e-01,\n",
       "         -3.40333178e-03, -1.03587300e-01, -8.76379579e-02,\n",
       "         -5.41367344e-02, -3.00243198e-02, -1.45454637e-01,\n",
       "          4.63373435e-02,  1.94059323e-01],\n",
       "        [ 1.29666571e-01,  1.59434341e-01,  1.62512150e-01,\n",
       "          1.71911339e-01, -2.40746463e-02,  2.20079981e-01,\n",
       "         -6.34552897e-02,  8.97828967e-03,  7.59911169e-02,\n",
       "          1.03872152e-02,  4.07449017e-02,  2.25165814e-01,\n",
       "          1.06850397e-01, -1.66297842e-01, -5.99868251e-02,\n",
       "         -1.51084334e-01,  1.96054035e-01,  1.00390232e-01,\n",
       "         -1.25112577e-01, -7.37749434e-02],\n",
       "        [ 4.60889602e-02,  1.36018902e-01, -1.26311485e-02,\n",
       "          2.28193706e-01,  8.27699141e-02, -9.58087364e-03,\n",
       "          1.58049908e-01,  3.98880346e-02, -2.19657107e-01,\n",
       "         -8.54900506e-03,  2.21633109e-01,  7.79816462e-02,\n",
       "          8.23399261e-02,  1.37940323e-01,  2.65532313e-01,\n",
       "          1.67780397e-02,  1.11766627e-01,  5.20309174e-02,\n",
       "          2.77075837e-02, -1.69415157e-01],\n",
       "        [ 2.60275407e-01, -1.15337431e-01, -4.24739403e-02,\n",
       "          9.86137115e-02,  1.05120356e-01,  5.94771908e-03,\n",
       "         -3.17591449e-01,  2.36882396e-02, -1.69047186e-01,\n",
       "          1.70898390e-02, -1.40228544e-03, -2.13186021e-02,\n",
       "         -8.48736255e-02,  2.82106215e-01,  1.45201643e-01,\n",
       "          1.36188796e-01,  5.66299648e-02,  6.39732753e-02,\n",
       "         -2.62226960e-01,  1.50816026e-01],\n",
       "        [-1.49231697e-01, -3.85087397e-02,  6.59733735e-02,\n",
       "         -1.00629908e-02,  9.65471432e-02,  2.89709070e-01,\n",
       "          4.86230470e-02,  2.58841040e-01, -2.96538760e-02,\n",
       "          6.32108504e-02, -8.50208760e-02,  4.39146423e-02,\n",
       "         -5.97436754e-02, -7.77340054e-02,  1.04021388e-01,\n",
       "         -2.07608209e-01,  2.60062824e-01,  4.75926836e-02,\n",
       "          1.47091579e-01, -1.44896559e-01],\n",
       "        [-8.89358222e-02, -8.79681378e-02, -7.94078002e-02,\n",
       "         -8.59661267e-02, -1.39428413e-01, -1.25371941e-01,\n",
       "          5.39061990e-02,  1.50087999e-01, -3.46559788e-02,\n",
       "          1.99369172e-01, -5.47255376e-02,  1.36600090e-01,\n",
       "         -1.59373338e-01,  2.32603743e-02,  2.66741389e-01,\n",
       "         -2.01199930e-01,  1.69722035e-02, -1.21611141e-01,\n",
       "          3.89071414e-02,  8.49360585e-02],\n",
       "        [-1.11099334e-01,  2.65902191e-01,  3.73294723e-02,\n",
       "         -1.32080937e-01,  1.90191428e-01,  3.87103193e-02,\n",
       "          6.23175384e-03,  1.01450131e-01, -5.63037688e-02,\n",
       "         -6.26348645e-02, -8.58168128e-02, -9.08816156e-02,\n",
       "          1.49712579e-01,  1.97285350e-01,  1.24155744e-01,\n",
       "          2.60197911e-03, -7.08956515e-02,  1.23451497e-01,\n",
       "         -1.15431503e-01,  4.01692738e-02],\n",
       "        [-1.09719911e-03, -4.20549446e-02,  1.67667098e-02,\n",
       "         -9.78981872e-02, -2.13955669e-03,  3.83920480e-02,\n",
       "          1.13843348e-02,  1.55067680e-02, -3.04951741e-02,\n",
       "          2.84266641e-02, -5.26423824e-02,  4.00212345e-02,\n",
       "          3.89376109e-02, -9.71571184e-03, -2.97578179e-02,\n",
       "         -1.00909282e-01,  5.65693149e-02, -3.54059508e-02,\n",
       "         -1.06254231e-01,  7.60593011e-02],\n",
       "        [ 7.63211330e-02, -9.12489328e-02,  1.22701155e-01,\n",
       "         -1.51650530e-01,  2.08614198e-01, -2.74856635e-01,\n",
       "          1.01158914e-01, -4.97726231e-02,  6.87976992e-03,\n",
       "          1.24540240e-01,  2.60193490e-02,  1.76488605e-01,\n",
       "         -2.03363740e-01,  8.27431213e-02, -9.95539322e-03,\n",
       "         -2.35142411e-01, -2.29792334e-01,  1.44717316e-01,\n",
       "          1.67291786e-02,  1.13787237e-01],\n",
       "        [ 2.22320529e-02,  6.08924999e-02, -8.24632612e-02,\n",
       "         -3.29675261e-03,  1.39496635e-01,  1.94203783e-01,\n",
       "         -7.08048334e-02,  2.16260052e-01,  4.71762112e-02,\n",
       "         -2.49760001e-01,  1.30465269e-01,  4.02745083e-02,\n",
       "          8.24388635e-02,  1.13643007e-01,  1.10733980e-02,\n",
       "         -4.98740054e-02, -1.65602711e-02,  4.27522659e-02,\n",
       "         -3.16977959e-02,  1.18486953e-02],\n",
       "        [ 6.98705953e-02,  1.09756823e-01, -2.52212383e-01,\n",
       "          6.60526581e-02, -1.89035678e-01, -1.22500444e-01,\n",
       "          1.15207258e-01, -7.86136599e-02,  2.66598222e-01,\n",
       "         -1.02692434e-01,  3.38157959e-01,  4.82375092e-02,\n",
       "          3.05114373e-01,  5.72909026e-02, -8.19983809e-02,\n",
       "          7.13729301e-02, -1.40728630e-01, -1.17653412e-01,\n",
       "          8.41072512e-02,  1.83803309e-01],\n",
       "        [-5.14427285e-04,  8.15011431e-04, -8.99914085e-04,\n",
       "          1.07648551e-03, -1.62665713e-03, -9.27253264e-04,\n",
       "         -9.55563047e-04, -8.35178706e-04, -3.07105030e-04,\n",
       "          7.43024049e-04,  5.64664923e-04, -1.17358725e-03,\n",
       "          1.16192900e-03,  2.18658214e-03, -1.83474469e-03,\n",
       "         -3.04477048e-04,  2.65322967e-04, -2.44764718e-03,\n",
       "         -2.01924943e-03, -2.13682367e-03]]),\n",
       " 'W3': array([[-1.36347324e-01,  2.57995788e-01,  4.17028254e-03,\n",
       "         -6.68975840e-02, -2.48917545e-01, -2.15582139e-01,\n",
       "         -1.89087175e-01, -2.86007250e-01, -1.55350456e-01,\n",
       "          1.50151745e-01,  4.76489710e-02,  8.91455789e-02,\n",
       "         -2.02157659e-01,  2.11977034e-03, -4.02560852e-04],\n",
       "        [ 1.45103117e-01, -1.62899754e-01,  3.18539648e-03,\n",
       "          1.99797548e-02,  2.98475867e-01,  1.91905291e-01,\n",
       "          3.09836883e-04,  7.89753941e-02,  1.51679211e-02,\n",
       "         -2.61732216e-01,  8.73007746e-02, -1.63322629e-01,\n",
       "         -1.51702705e-01, -4.71855309e-02,  9.25269882e-04],\n",
       "        [ 9.16358435e-02,  4.08522949e-01, -1.37407272e-03,\n",
       "          1.04858627e-01,  2.38766441e-01, -2.02270833e-01,\n",
       "         -2.14540093e-01,  1.29247701e-01, -2.49014499e-01,\n",
       "         -1.61888554e-01, -9.64492909e-02, -6.94535995e-02,\n",
       "          1.20448060e-01, -2.30780174e-01,  3.21219936e-03],\n",
       "        [-1.22881360e-01,  1.97747731e-01, -3.01988573e-03,\n",
       "         -1.63633058e-01, -9.41394386e-02,  2.35344873e-03,\n",
       "         -2.57158524e-02,  4.02299645e-01,  1.64408889e-01,\n",
       "          1.20829190e-01,  8.00055825e-02, -2.10780687e-01,\n",
       "         -1.30557219e-01, -4.30387933e-01, -3.06863443e-03],\n",
       "        [ 4.85833045e-01, -3.34826656e-01, -1.34817220e-03,\n",
       "          1.25519508e-01, -8.52133178e-02, -1.85063579e-01,\n",
       "          1.94726990e-01, -5.21419027e-02,  1.91021836e-01,\n",
       "         -1.48116338e-01, -8.55636577e-03, -1.86166365e-01,\n",
       "         -3.80991866e-02, -8.25684884e-03, -7.30626300e-04],\n",
       "        [-1.14064510e-03, -4.37879813e-04,  1.73183361e-03,\n",
       "         -1.99094656e-04,  4.98753686e-05,  5.08279200e-04,\n",
       "         -6.36814609e-04, -2.09388459e-04, -4.44676852e-04,\n",
       "         -1.05227097e-03,  6.44476268e-04,  2.84547663e-04,\n",
       "         -1.09668082e-03, -8.08467050e-04, -1.10615117e-03],\n",
       "        [-9.68086617e-03,  1.12652223e-01, -2.58774317e-03,\n",
       "          7.45418453e-02,  1.61133952e-02, -2.23653121e-01,\n",
       "         -2.45446611e-01, -1.80527772e-01, -1.96517265e-02,\n",
       "         -2.80883549e-01, -7.61099344e-02, -1.47081966e-01,\n",
       "         -2.13420817e-01,  3.12226604e-01,  1.43896854e-04],\n",
       "        [-9.79990555e-02, -1.23197279e-01, -2.21905325e-03,\n",
       "         -1.03275872e-01,  2.59759541e-01, -1.14510616e-01,\n",
       "          4.30224100e-01,  1.74833929e-01, -2.53512380e-01,\n",
       "          1.55857800e-01,  6.17790088e-03, -1.44126794e-01,\n",
       "          1.08393691e-01, -1.48164607e-01, -7.44870997e-04],\n",
       "        [-1.76695183e-01, -8.80180716e-02,  5.95761975e-03,\n",
       "          1.63358611e-01,  4.54632244e-02, -3.31835244e-01,\n",
       "         -1.00038576e-01,  1.33379613e-01,  2.92148489e-01,\n",
       "         -1.15734320e-01,  9.21490676e-02,  4.07852462e-01,\n",
       "         -1.45779459e-01, -2.02435725e-01, -2.36705196e-03],\n",
       "        [ 1.56764330e-01,  5.02393167e-02,  1.44049658e-03,\n",
       "         -3.08912045e-01, -2.21859286e-01,  1.25119515e-01,\n",
       "          2.86470820e-01, -1.65605434e-01,  1.02809805e-01,\n",
       "         -1.14671903e-01, -1.15481879e-01,  2.91423877e-01,\n",
       "         -2.26077099e-01, -3.62365082e-01, -8.60391576e-04]]),\n",
       " 'b1': array([[-0.00100887],\n",
       "        [-0.01315535],\n",
       "        [-0.01007787],\n",
       "        [-0.00330022],\n",
       "        [-0.00831668],\n",
       "        [-0.01081078],\n",
       "        [ 0.00150522],\n",
       "        [-0.00239963],\n",
       "        [ 0.00522392],\n",
       "        [ 0.00760633],\n",
       "        [-0.00271581],\n",
       "        [ 0.0115222 ],\n",
       "        [-0.01405269],\n",
       "        [ 0.00360104],\n",
       "        [ 0.00218546],\n",
       "        [-0.00849225],\n",
       "        [-0.01131472],\n",
       "        [-0.00936249],\n",
       "        [-0.00314545],\n",
       "        [ 0.01893069]]),\n",
       " 'b2': array([[ 1.58356076e-02],\n",
       "        [-3.25008417e-02],\n",
       "        [ 7.17889900e-06],\n",
       "        [ 1.42264516e-02],\n",
       "        [-1.59106085e-02],\n",
       "        [-1.33828163e-02],\n",
       "        [-1.58608491e-03],\n",
       "        [-2.32969386e-02],\n",
       "        [ 3.96689452e-02],\n",
       "        [-1.21268891e-02],\n",
       "        [ 7.65262744e-04],\n",
       "        [ 4.35619071e-02],\n",
       "        [-1.32221205e-02],\n",
       "        [ 1.80194222e-02],\n",
       "        [-3.18348169e-05]]),\n",
       " 'b3': array([[-1.84722238e-02],\n",
       "        [-4.28013511e-03],\n",
       "        [-5.01346018e-02],\n",
       "        [-6.68534485e-02],\n",
       "        [ 3.93920374e-02],\n",
       "        [-7.28910368e-05],\n",
       "        [-1.17873848e-03],\n",
       "        [-2.53211497e-02],\n",
       "        [ 5.52018561e-02],\n",
       "        [ 2.55395128e-02]])}"
      ]
     },
     "execution_count": 19,
     "metadata": {},
     "output_type": "execute_result"
    }
   ],
   "source": [
    "network.parameters"
   ]
  },
  {
   "cell_type": "code",
   "execution_count": null,
   "metadata": {},
   "outputs": [],
   "source": []
  }
 ],
 "metadata": {
  "kernelspec": {
   "display_name": "Python 3",
   "language": "python",
   "name": "python3"
  },
  "language_info": {
   "codemirror_mode": {
    "name": "ipython",
    "version": 3
   },
   "file_extension": ".py",
   "mimetype": "text/x-python",
   "name": "python",
   "nbconvert_exporter": "python",
   "pygments_lexer": "ipython3",
   "version": "3.6.4"
  }
 },
 "nbformat": 4,
 "nbformat_minor": 2
}
